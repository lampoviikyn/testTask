{
 "cells": [
  {
   "cell_type": "code",
   "execution_count": 270,
   "metadata": {},
   "outputs": [],
   "source": [
    "import pandas as pd\n",
    "import numpy as np \n",
    "from datetime import datetime\n",
    "import matplotlib.pyplot as plt\n",
    "\n",
    "plt.style.use('ggplot')\n",
    "\n",
    "plt.rcParams['figure.figsize'] = (10, 5)"
   ]
  },
  {
   "cell_type": "code",
   "execution_count": 349,
   "metadata": {
    "pycharm": {
     "name": "#%%\n"
    }
   },
   "outputs": [
    {
     "data": {
      "text/html": [
       "<div>\n",
       "<style scoped>\n",
       "    .dataframe tbody tr th:only-of-type {\n",
       "        vertical-align: middle;\n",
       "    }\n",
       "\n",
       "    .dataframe tbody tr th {\n",
       "        vertical-align: top;\n",
       "    }\n",
       "\n",
       "    .dataframe thead th {\n",
       "        text-align: right;\n",
       "    }\n",
       "</style>\n",
       "<table border=\"1\" class=\"dataframe\">\n",
       "  <thead>\n",
       "    <tr style=\"text-align: right;\">\n",
       "      <th></th>\n",
       "      <th>client_id</th>\n",
       "      <th>sum</th>\n",
       "      <th>status</th>\n",
       "      <th>sale</th>\n",
       "      <th>new/current</th>\n",
       "      <th>document</th>\n",
       "      <th>receiving_date</th>\n",
       "      <th>month</th>\n",
       "    </tr>\n",
       "  </thead>\n",
       "  <tbody>\n",
       "    <tr>\n",
       "      <th>2</th>\n",
       "      <td>14.0</td>\n",
       "      <td>5452.7</td>\n",
       "      <td>ОПЛАЧЕНО</td>\n",
       "      <td>Петрова</td>\n",
       "      <td>новая</td>\n",
       "      <td>оригинал</td>\n",
       "      <td>2021-07-26</td>\n",
       "      <td>5</td>\n",
       "    </tr>\n",
       "    <tr>\n",
       "      <th>3</th>\n",
       "      <td>15.0</td>\n",
       "      <td>13991.7</td>\n",
       "      <td>ОПЛАЧЕНО</td>\n",
       "      <td>Иванов</td>\n",
       "      <td>текущая</td>\n",
       "      <td>оригинал</td>\n",
       "      <td>2021-06-08</td>\n",
       "      <td>5</td>\n",
       "    </tr>\n",
       "    <tr>\n",
       "      <th>4</th>\n",
       "      <td>16.0</td>\n",
       "      <td>719.7</td>\n",
       "      <td>ОПЛАЧЕНО</td>\n",
       "      <td>Иванов</td>\n",
       "      <td>текущая</td>\n",
       "      <td>оригинал</td>\n",
       "      <td>2021-06-08</td>\n",
       "      <td>5</td>\n",
       "    </tr>\n",
       "    <tr>\n",
       "      <th>5</th>\n",
       "      <td>18.0</td>\n",
       "      <td>4253.7</td>\n",
       "      <td>ОПЛАЧЕНО</td>\n",
       "      <td>Иванов</td>\n",
       "      <td>текущая</td>\n",
       "      <td>оригинал</td>\n",
       "      <td>2021-07-07</td>\n",
       "      <td>5</td>\n",
       "    </tr>\n",
       "    <tr>\n",
       "      <th>6</th>\n",
       "      <td>20.0</td>\n",
       "      <td>5796.7</td>\n",
       "      <td>ОПЛАЧЕНО</td>\n",
       "      <td>Кузнецова</td>\n",
       "      <td>текущая</td>\n",
       "      <td>оригинал</td>\n",
       "      <td>2021-07-15</td>\n",
       "      <td>5</td>\n",
       "    </tr>\n",
       "    <tr>\n",
       "      <th>...</th>\n",
       "      <td>...</td>\n",
       "      <td>...</td>\n",
       "      <td>...</td>\n",
       "      <td>...</td>\n",
       "      <td>...</td>\n",
       "      <td>...</td>\n",
       "      <td>...</td>\n",
       "      <td>...</td>\n",
       "    </tr>\n",
       "    <tr>\n",
       "      <th>725</th>\n",
       "      <td>285.0</td>\n",
       "      <td>4328.7</td>\n",
       "      <td>ОПЛАЧЕНО</td>\n",
       "      <td>Васильев</td>\n",
       "      <td>текущая</td>\n",
       "      <td>оригинал</td>\n",
       "      <td>2021-11-15</td>\n",
       "      <td>10</td>\n",
       "    </tr>\n",
       "    <tr>\n",
       "      <th>726</th>\n",
       "      <td>360.0</td>\n",
       "      <td>3096.2</td>\n",
       "      <td>ОПЛАЧЕНО</td>\n",
       "      <td>Васильев</td>\n",
       "      <td>новая</td>\n",
       "      <td>НЕТ</td>\n",
       "      <td>NaT</td>\n",
       "      <td>10</td>\n",
       "    </tr>\n",
       "    <tr>\n",
       "      <th>727</th>\n",
       "      <td>360.0</td>\n",
       "      <td>3096.2</td>\n",
       "      <td>ПРОСРОЧЕНО</td>\n",
       "      <td>Васильев</td>\n",
       "      <td>новая</td>\n",
       "      <td>НЕТ</td>\n",
       "      <td>NaT</td>\n",
       "      <td>10</td>\n",
       "    </tr>\n",
       "    <tr>\n",
       "      <th>728</th>\n",
       "      <td>373.0</td>\n",
       "      <td>4403.7</td>\n",
       "      <td>ОПЛАЧЕНО</td>\n",
       "      <td>Михайлов</td>\n",
       "      <td>новая</td>\n",
       "      <td>оригинал</td>\n",
       "      <td>2021-11-08</td>\n",
       "      <td>10</td>\n",
       "    </tr>\n",
       "    <tr>\n",
       "      <th>729</th>\n",
       "      <td>286.0</td>\n",
       "      <td>3978.7</td>\n",
       "      <td>ОПЛАЧЕНО</td>\n",
       "      <td>Филимонова</td>\n",
       "      <td>текущая</td>\n",
       "      <td>оригинал</td>\n",
       "      <td>2021-11-15</td>\n",
       "      <td>10</td>\n",
       "    </tr>\n",
       "  </tbody>\n",
       "</table>\n",
       "<p>723 rows × 8 columns</p>\n",
       "</div>"
      ],
      "text/plain": [
       "     client_id      sum      status        sale new/current  document  \\\n",
       "2         14.0   5452.7    ОПЛАЧЕНО     Петрова       новая  оригинал   \n",
       "3         15.0  13991.7    ОПЛАЧЕНО      Иванов     текущая  оригинал   \n",
       "4         16.0    719.7    ОПЛАЧЕНО      Иванов     текущая  оригинал   \n",
       "5         18.0   4253.7    ОПЛАЧЕНО      Иванов     текущая  оригинал   \n",
       "6         20.0   5796.7    ОПЛАЧЕНО   Кузнецова     текущая  оригинал   \n",
       "..         ...      ...         ...         ...         ...       ...   \n",
       "725      285.0   4328.7    ОПЛАЧЕНО    Васильев     текущая  оригинал   \n",
       "726      360.0   3096.2    ОПЛАЧЕНО    Васильев       новая       НЕТ   \n",
       "727      360.0   3096.2  ПРОСРОЧЕНО    Васильев       новая       НЕТ   \n",
       "728      373.0   4403.7    ОПЛАЧЕНО    Михайлов       новая  оригинал   \n",
       "729      286.0   3978.7    ОПЛАЧЕНО  Филимонова     текущая  оригинал   \n",
       "\n",
       "    receiving_date  month  \n",
       "2       2021-07-26      5  \n",
       "3       2021-06-08      5  \n",
       "4       2021-06-08      5  \n",
       "5       2021-07-07      5  \n",
       "6       2021-07-15      5  \n",
       "..             ...    ...  \n",
       "725     2021-11-15     10  \n",
       "726            NaT     10  \n",
       "727            NaT     10  \n",
       "728     2021-11-08     10  \n",
       "729     2021-11-15     10  \n",
       "\n",
       "[723 rows x 8 columns]"
      ]
     },
     "execution_count": 349,
     "metadata": {},
     "output_type": "execute_result"
    }
   ],
   "source": [
    "df = pd.read_excel('data.xlsx')\n",
    "df.pop('Unnamed: 5')\n",
    "\n",
    "df = df.assign(month =  0)\n",
    "for i in range(732):\n",
    "    if i >= 0 and i <= 129:\n",
    "        df.iloc[i, 7] = 5\n",
    "    elif i >= 130 and i <= 257:\n",
    "        df.iloc[i, 7] = 6\n",
    "    elif i >= 259 and i <= 368:\n",
    "        df.iloc[i, 7] = 7\n",
    "    elif i >= 370 and i <= 483:\n",
    "        df.iloc[i, 7] = 8\n",
    "    elif i >= 485 and i <= 593:\n",
    "        df.iloc[i, 7] = 9\n",
    "    elif i >= 595 and i <= 729:\n",
    "        df.iloc[i, 7] = 10\n",
    "        \n",
    "df = df.loc[df['client_id'].isna() == 0]\n",
    "df = df.loc[df['receiving_date'] != '-']\n",
    "df['receiving_date'] = pd.to_datetime(df['receiving_date'], format=\"%Y-%m-%d %H:%M:%S\")\n",
    "\n",
    "df"
   ]
  },
  {
   "cell_type": "code",
   "execution_count": 370,
   "metadata": {},
   "outputs": [
    {
     "name": "stdout",
     "output_type": "stream",
     "text": [
      "Общая выручка за июль 2021 по не просроченным сделкам = 859896.4699999997\n"
     ]
    }
   ],
   "source": [
    "#1\n",
    "summ = df.loc[(df['status'] != 'ПРОСРОЧЕНО') & \n",
    "       (df['month'] == 7), 'sum'].sum()\n",
    "print('Общая выручка за июль 2021 по не просроченным сделкам = ' + str(summ))\n"
   ]
  },
  {
   "cell_type": "code",
   "execution_count": 394,
   "metadata": {
    "scrolled": true
   },
   "outputs": [
    {
     "data": {
      "text/plain": [
       "<AxesSubplot:title={'center':'Выручка за рассматриваемый период'}, xlabel='Месяц', ylabel='Выручка, руб.'>"
      ]
     },
     "execution_count": 394,
     "metadata": {},
     "output_type": "execute_result"
    },
    {
     "data": {
      "image/png": "[encoded data removed]",
      "text/plain": [
       "<Figure size 720x360 with 1 Axes>"
      ]
     },
     "metadata": {},
     "output_type": "display_data"
    }
   ],
   "source": [
    "#2\n",
    "df_sum = df.loc[df['status'] != 'ПРОСРОЧЕНО'].groupby('month').aggregate(sum)\n",
    "df_sum.index = ['May', 'June', 'July', 'August', 'September', 'October']\n",
    "df_sum.plot(y='sum', use_index=True, title='Выручка за рассматриваемый период', xlabel='Месяц', ylabel='Выручка, руб.')\n"
   ]
  },
  {
   "cell_type": "code",
   "execution_count": 425,
   "metadata": {},
   "outputs": [
    {
     "name": "stdout",
     "output_type": "stream",
     "text": [
      "Андреев привлек больше всего средств в сентябре 2021\n"
     ]
    },
    {
     "data": {
      "image/png": "[encoded data removed]",
      "text/plain": [
       "<Figure size 720x360 with 1 Axes>"
      ]
     },
     "metadata": {},
     "output_type": "display_data"
    }
   ],
   "source": [
    "#3\n",
    "df_sale = df.loc[(df['status'] != 'ПРОСРОЧЕНО') &\n",
    "                 (df['month'] == 9)].groupby('sale').aggregate(sum)\n",
    "df_sale.index = ['Васильев', 'Петрова', 'Кузнецова', 'Смирнов', 'Филимонова', 'Соколов', 'Андреев', 'Михайлов', 'Иванов']\n",
    "df_sale['sum'].plot(kind='bar', title='Привлеченные средства', xlabel='Фамилия менеджера', ylabel='Сумма, руб.')\n",
    "name = df_sale['sum'].idxmax()\n",
    "print(name + ' привлек больше всего средств в сентябре 2021')"
   ]
  },
  {
   "cell_type": "code",
   "execution_count": 426,
   "metadata": {},
   "outputs": [
    {
     "name": "stdout",
     "output_type": "stream",
     "text": [
      "Текущие сделки преобладали в октябре 2021\n"
     ]
    }
   ],
   "source": [
    "#4\n",
    "if(\n",
    "df.loc[(df['new/current'] == 'текущая') & \n",
    "       (df['month'] == 10)].count()['client_id'] >\n",
    "df.loc[(df['new/current'] == 'новая') & \n",
    "       (df['month'] == 10)].count()['client_id']):\n",
    "    print('Текущие сделки преобладали в октябре 2021')\n",
    "else:\n",
    "    print('Новые сделки преобладали в октябре 2021')"
   ]
  },
  {
   "cell_type": "code",
   "execution_count": 427,
   "metadata": {},
   "outputs": [
    {
     "name": "stdout",
     "output_type": "stream",
     "text": [
      "77 оригиналов договора по майским сделкам было получено в июне 2021\n"
     ]
    }
   ],
   "source": [
    "#5\n",
    "n = df.loc[(df['month'] == 5) & \n",
    "       (df['receiving_date'] >= '2021-6-1') & \n",
    "       (df['receiving_date'] <= '2021-6-30')].count()['client_id']\n",
    "print(str(n) + ' оригиналов договора по майским сделкам было получено в июне 2021')"
   ]
  },
  {
   "cell_type": "code",
   "execution_count": 429,
   "metadata": {},
   "outputs": [
    {
     "name": "stdout",
     "output_type": "stream",
     "text": [
      "Остаток каждого из менеджеров на 01.07.2021\n"
     ]
    },
    {
     "data": {
      "text/plain": [
       "sale\n",
       "Андреев        3945.8297\n",
       "Васильев       1037.0490\n",
       "Иванов         5991.4520\n",
       "Кузнецова      4496.9501\n",
       "Петрова       10770.7474\n",
       "Селиванов      5297.6900\n",
       "Смирнов        6430.2650\n",
       "Соколов         269.2110\n",
       "Филимонова     2317.9579\n",
       "Name: remainder, dtype: float64"
      ]
     },
     "execution_count": 429,
     "metadata": {},
     "output_type": "execute_result"
    }
   ],
   "source": [
    "#6\n",
    "df = df.assign(bonus =  0)\n",
    "df = df.assign(remainder =  0)\n",
    "\n",
    "def bonus(col):\n",
    "    if (col['status'] == 'ОПЛАЧЕНО' and \n",
    "        col['new/current'] == 'новая' and\n",
    "        col['document'] == 'оригинал' and\n",
    "        col['receiving_date'].month == col['month']):\n",
    "        return (col['sum'] * 0.07)\n",
    "    elif (col['status'] != 'ПРОСРОЧЕНО' and \n",
    "        col['new/current'] == 'текущая' and\n",
    "        col['document'] == 'оригинал' and\n",
    "        col['receiving_date'].month == col['month'] and \n",
    "        col['sum'] > 10000):\n",
    "        return (col['sum'] * 0.05)\n",
    "    elif (col['status'] != 'ПРОСРОЧЕНО' and \n",
    "        col['new/current'] == 'текущая' and\n",
    "        col['document'] == 'оригинал' and\n",
    "        col['receiving_date'].month == col['month'] and \n",
    "        col['sum'] <= 10000):\n",
    "        return (col['sum'] * 0.03)\n",
    "    return 0\n",
    "\n",
    "def remainder(col):\n",
    "    if (col['status'] == 'ОПЛАЧЕНО' and \n",
    "        col['new/current'] == 'новая' and\n",
    "        col['document'] == 'оригинал' and\n",
    "        col['receiving_date'].month != col['month']):\n",
    "        return (col['sum'] * 0.07)\n",
    "    elif (col['status'] != 'ПРОСРОЧЕНО' and \n",
    "        col['new/current'] == 'текущая' and\n",
    "        col['document'] == 'оригинал' and\n",
    "        col['receiving_date'].month != col['month'] and \n",
    "        col['sum'] > 10000):\n",
    "        return (col['sum'] * 0.05)\n",
    "    elif (col['status'] != 'ПРОСРОЧЕНО' and \n",
    "        col['new/current'] == 'текущая' and\n",
    "        col['document'] == 'оригинал' and\n",
    "        col['receiving_date'].month != col['month'] and \n",
    "        col['sum'] <= 10000):\n",
    "        return (col['sum'] * 0.03)\n",
    "    \n",
    "    \n",
    "\n",
    "df['remainder'] = df.apply(remainder, axis = 1)\n",
    "df['bonus'] = df.apply(bonus, axis = 1)\n",
    "\n",
    "df_remainder = df.loc[(df['month'] < 7 ) & \n",
    "                      (df['receiving_date'] >= '2021-07-01')].groupby('sale').aggregate(sum)\n",
    "print('Остаток каждого из менеджеров на 01.07.2021')\n",
    "df_remainder['remainder']\n"
   ]
  },
  {
   "cell_type": "code",
   "execution_count": null,
   "metadata": {},
   "outputs": [],
   "source": []
  }
 ],
 "metadata": {
  "kernelspec": {
   "display_name": "Python 3 (ipykernel)",
   "language": "python",
   "name": "python3"
  },
  "language_info": {
   "codemirror_mode": {
    "name": "ipython",
    "version": 3
   },
   "file_extension": ".py",
   "mimetype": "text/x-python",
   "name": "python",
   "nbconvert_exporter": "python",
   "pygments_lexer": "ipython3",
   "version": "3.9.9"
  }
 },
 "nbformat": 4,
 "nbformat_minor": 1
}